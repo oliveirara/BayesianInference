{
 "cells": [
  {
   "cell_type": "markdown",
   "metadata": {},
   "source": [
    "# Bayesian Inference: Activity 1\n",
    "Prof. Valerio Marra\n",
    "\n",
    "__Renan Alves de Oliveira__\n",
    "\n",
    "___2018___\n",
    "\n",
    "Find numerically that:\n",
    "$$P(A|B) = \\frac{P(A,B)}{P(B)} = \\frac{\\frac{1}{3}}{\\frac{17}{24}}=\\frac{8}{17}\\approx0.47058823529411764$$"
   ]
  },
  {
   "cell_type": "code",
   "execution_count": 1,
   "metadata": {},
   "outputs": [],
   "source": [
    "import numpy as np\n",
    "%load_ext cython"
   ]
  },
  {
   "cell_type": "markdown",
   "metadata": {},
   "source": [
    "Brute force way using `Cython`:"
   ]
  },
  {
   "cell_type": "code",
   "execution_count": 2,
   "metadata": {},
   "outputs": [],
   "source": [
    "%%cython\n",
    "cimport numpy as np\n",
    "import numpy as np\n",
    "\n",
    "cpdef bayes(int mcs):\n",
    "    \"\"\"\n",
    "    Function that gives P(A|B).\n",
    "\n",
    "    Args:\n",
    "        mcs (int): number of Montes Carlos simulations.\n",
    "\n",
    "    Returns:\n",
    "        Prints P(B), P(A,B) and P(A|B)\n",
    "    \"\"\"\n",
    "    cdef double prob_b\n",
    "    cdef double prob_a_given_b\n",
    "    cdef int random_urn_selection\n",
    "\n",
    "    urn_1 = [0, 0, 1]\n",
    "    urn_2 = [0, 0, 0, 1]\n",
    "    trials = np.empty((mcs,2),dtype=int)\n",
    "    for i in range(mcs):\n",
    "        # Only in this part:\n",
    "        # 1 to urn 1\n",
    "        # 2 to urn 2.\n",
    "        random_urn_selection = np.random.choice([1,2])\n",
    "        if random_urn_selection == 1:\n",
    "            random_choice_balls = np.random.choice(urn_1)\n",
    "            trials[i] = random_urn_selection,random_choice_balls\n",
    "        else:\n",
    "            random_choice_balls = np.random.choice(urn_2)\n",
    "            trials[i] = random_urn_selection,random_choice_balls\n",
    "    \n",
    "    prob_b = np.where(trials[:,1]==0)[0].shape[0]/mcs\n",
    "    \n",
    "    # Condition for urn_1:\n",
    "    trials_urn_1 = trials[np.where(trials[:,0]==1)]\n",
    "    \n",
    "    prob_a_given_b = np.where(trials_urn_1==0)[0].shape[0]/mcs\n",
    "    \n",
    "    return print('P(B) = {}\\nP(A,B) = {}\\nP(A|B) = P(A,B)/P(B) = {}'.format(prob_b,prob_a_given_b,prob_a_given_b/prob_b))"
   ]
  },
  {
   "cell_type": "code",
   "execution_count": 3,
   "metadata": {},
   "outputs": [
    {
     "name": "stdout",
     "output_type": "stream",
     "text": [
      "P(B) = 0.70876\n",
      "P(A,B) = 0.33361\n",
      "P(A|B) = P(A,B)/P(B) = 0.4706952988317626\n",
      "CPU times: user 594 ms, sys: 0 ns, total: 594 ms\n",
      "Wall time: 606 ms\n"
     ]
    }
   ],
   "source": [
    "%time bayes(100000) #1e6"
   ]
  },
  {
   "cell_type": "code",
   "execution_count": 4,
   "metadata": {},
   "outputs": [
    {
     "name": "stdout",
     "output_type": "stream",
     "text": [
      "P(B) = 0.708975\n",
      "P(A,B) = 0.333687\n",
      "P(A|B) = P(A,B)/P(B) = 0.47066116576748124\n",
      "CPU times: user 6.11 s, sys: 62.5 ms, total: 6.17 s\n",
      "Wall time: 6.2 s\n"
     ]
    }
   ],
   "source": [
    "%time bayes(1000000) #1e7"
   ]
  },
  {
   "cell_type": "code",
   "execution_count": 5,
   "metadata": {},
   "outputs": [
    {
     "name": "stdout",
     "output_type": "stream",
     "text": [
      "P(B) = 0.7083387\n",
      "P(A,B) = 0.3334068\n",
      "P(A|B) = P(A,B)/P(B) = 0.4706883867844578\n",
      "CPU times: user 1min 1s, sys: 609 ms, total: 1min 1s\n",
      "Wall time: 1min 2s\n"
     ]
    }
   ],
   "source": [
    "%time bayes(10000000) #1e8"
   ]
  }
 ],
 "metadata": {
  "kernelspec": {
   "display_name": "Python 3",
   "language": "python",
   "name": "python3"
  },
  "language_info": {
   "codemirror_mode": {
    "name": "ipython",
    "version": 3
   },
   "file_extension": ".py",
   "mimetype": "text/x-python",
   "name": "python",
   "nbconvert_exporter": "python",
   "pygments_lexer": "ipython3",
   "version": "3.7.3"
  }
 },
 "nbformat": 4,
 "nbformat_minor": 2
}
