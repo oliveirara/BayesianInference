{
 "cells": [
  {
   "cell_type": "markdown",
   "metadata": {},
   "source": [
    "# Bayesian Inference: Activity 2\n",
    "Prof.Valerio Marra\n",
    "\n",
    "**Renan Alves de Oliveira**\n",
    "\n",
    "*2019*\n",
    "\n",
    "3. You are given 101 realizations of a 30-d random vector; be $d_{s}$ the s-th random vector with $s=1,...,101$. Equivalently, you are given a $30\\times101$ matrix $d_{i,s}$. Compute the (sample) mean vector $d$ and covariance matrix $\\Sigma$ using the first 100 realizations (for notational simplicity the hat is implied). Verify that $\\Sigma$ is positive definite. Then build a $\\chi^{2}$ function according to (2.69). The data be $\\left\\{ t_{i},x_{i}\\right\\} =\\left\\{ i,d_{i}\\right\\}$, and the theoretical model be $g\\left(t|a,b\\right)=at+b$:$$\\chi^{2}\\left(a,b\\right)\t=\t\\left[x_{i}-g\\left(t_{i}|a,b\\right)\\right]\\Sigma_{ij}^{-1}\\left[x_{j}-g\\left(t_{j}|a,b\\right)\\right].$$ Minimize $\\chi^{2}\\left(a,b\\right)$ so as to find the best-fit values $\\left\\{ a,b\\right\\} ^{\\mathrm{bf}}$. Plot $g\\left(x|\\left\\{ a,b\\right\\} ^{\\mathrm{bf}}\\right)$ together with $\\left\\{ t_{i},x_{i}\\right\\}$ and also plot the correlation matrix–as in Figure 2.9. Repeat the analysis using only the diagonal part of the covariance matrix when building the $\\chi^{2}$, that is, neglecting correlations. This should give you an idea of the bias on the results one gets when neglecting correlations (perhaps because unknown)."
   ]
  },
  {
   "cell_type": "code",
   "execution_count": 1,
   "metadata": {},
   "outputs": [],
   "source": [
    "# Load some packages:\n",
    "import numpy as np\n",
    "import matplotlib.pyplot as plt\n",
    "%matplotlib inline\n",
    "\n",
    "# Load data:\n",
    "data = np.loadtxt('data.txt')"
   ]
  },
  {
   "cell_type": "code",
   "execution_count": 2,
   "metadata": {},
   "outputs": [
    {
     "data": {
      "text/plain": [
       "(101, 30)"
      ]
     },
     "execution_count": 2,
     "metadata": {},
     "output_type": "execute_result"
    }
   ],
   "source": [
    "data.shape"
   ]
  },
  {
   "cell_type": "markdown",
   "metadata": {},
   "source": [
    "Lets evaluate the s-th mean for all simulations, and it corresponding covariance matrix:"
   ]
  },
  {
   "cell_type": "code",
   "execution_count": 3,
   "metadata": {},
   "outputs": [],
   "source": [
    "mean_d = np.mean(data[:-1], axis=0) # [:-1] cut the last element of this array.\n",
    "cov_d = np.cov(data[:-1],rowvar=False)"
   ]
  },
  {
   "cell_type": "markdown",
   "metadata": {},
   "source": [
    "To certify that the covariance matrix `cov_d`is positive definite, we can find all the eigenvalues of the matrix and if all elements are > 0, than is a signal that the matrix is positive definite. Another property is evaluating its Cholesky decomposition:"
   ]
  },
  {
   "cell_type": "code",
   "execution_count": 4,
   "metadata": {},
   "outputs": [],
   "source": [
    "eigen_d = np.linalg.eigvals(cov_d)"
   ]
  },
  {
   "cell_type": "markdown",
   "metadata": {},
   "source": [
    "Is there any eigenvalye < 0 in `eigen_d`?"
   ]
  },
  {
   "cell_type": "code",
   "execution_count": 5,
   "metadata": {},
   "outputs": [
    {
     "data": {
      "text/plain": [
       "False"
      ]
     },
     "execution_count": 5,
     "metadata": {},
     "output_type": "execute_result"
    }
   ],
   "source": [
    "np.unique(eigen_d<0)[0] # np.unique sets unique values."
   ]
  },
  {
   "cell_type": "code",
   "execution_count": 6,
   "metadata": {},
   "outputs": [
    {
     "name": "stdout",
     "output_type": "stream",
     "text": [
      "Cholesky Decomposition done! Covariance matrix is positive definite!\n"
     ]
    }
   ],
   "source": [
    "try:\n",
    "    np.linalg.cholesky(cov_d)\n",
    "    print(\"Cholesky Decomposition done! Covariance matrix is positive definite!\")\n",
    "except:\n",
    "    print('This matrix is not positive definite!')"
   ]
  },
  {
   "cell_type": "code",
   "execution_count": 7,
   "metadata": {},
   "outputs": [],
   "source": [
    "inv_cov_d = np.linalg.inv(cov_d) # Evaluate its inverse"
   ]
  },
  {
   "cell_type": "code",
   "execution_count": 8,
   "metadata": {},
   "outputs": [
    {
     "data": {
      "text/plain": [
       "True"
      ]
     },
     "execution_count": 8,
     "metadata": {},
     "output_type": "execute_result"
    }
   ],
   "source": [
    "# Is this the real inverse of covariance matrix? If this == True, then yes!\n",
    "np.unique(np.abs(np.round(np.dot(inv_cov_d, cov_d))) == np.diag(np.ones(30)))[0]"
   ]
  },
  {
   "cell_type": "markdown",
   "metadata": {},
   "source": [
    "In this first part, I will minimize $\\chi^{2}$ analitically. This procedure might not work in several other models.\n",
    "$$\\begin{eqnarray*}\n",
    "\\chi^{2}\\left(a,b\\right) & = & \\left(\\mathbf{x}-a\\mathbf{t}-b\\boldsymbol{1}\\right)^{T}\\boldsymbol{\\Sigma}^{-1}\\left(\\mathbf{x}-a\\mathbf{t}-b\\boldsymbol{1}\\right),\\\\\n",
    " & = & \\left(\\mathbf{x}^{T}-a\\mathbf{t}^{T}-b\\boldsymbol{1}^{T}\\right)\\boldsymbol{\\Sigma}^{-1}\\left(\\mathbf{x}-a\\mathbf{t}-b\\boldsymbol{1}\\right),\\\\\n",
    " & = & \\mathbf{x}^{T}\\boldsymbol{\\Sigma}^{-1}\\mathbf{x}-a\\mathbf{x}^{T}\\boldsymbol{\\Sigma}^{-1}\\mathbf{t}-b\\mathbf{x}^{T}\\boldsymbol{\\Sigma}^{-1}\\boldsymbol{1}\\\\\n",
    " &  & -a\\mathbf{t}^{T}\\boldsymbol{\\Sigma}^{-1}\\mathbf{x}+a^{2}\\mathbf{t}^{T}\\boldsymbol{\\Sigma}^{-1}\\mathbf{t}+ab\\mathbf{t}^{T}\\boldsymbol{\\Sigma}^{-1}\\boldsymbol{1}\\\\\n",
    " &  & -b\\boldsymbol{1}^{T}\\boldsymbol{\\Sigma}^{-1}\\mathbf{x}+ab\\boldsymbol{1}^{T}\\boldsymbol{\\Sigma}^{-1}\\mathbf{t}+b^{2}\\boldsymbol{1}^{T}\\boldsymbol{\\Sigma}^{-1}\\boldsymbol{1},\\\\\n",
    " & = & -a\\left(\\mathbf{x}^{T}\\boldsymbol{\\Sigma}^{-1}\\mathbf{t}+\\mathbf{t}^{T}\\boldsymbol{\\Sigma}^{-1}\\mathbf{x}\\right)+a^{2}\\mathbf{t}^{T}\\boldsymbol{\\Sigma}^{-1}\\mathbf{t}\\\\\n",
    " &  & -b\\left(\\mathbf{x}^{T}\\boldsymbol{\\Sigma}^{-1}\\boldsymbol{1}+\\boldsymbol{1}^{T}\\boldsymbol{\\Sigma}^{-1}\\mathbf{x}\\right)+b^{2}\\boldsymbol{1}^{T}\\boldsymbol{\\Sigma}^{-1}\\boldsymbol{1}\\\\\n",
    " &  & +ab\\left(\\mathbf{t}^{T}\\boldsymbol{\\Sigma}^{-1}\\boldsymbol{1}+\\boldsymbol{1}^{T}\\boldsymbol{\\Sigma}^{-1}\\mathbf{t}\\right)\\\\\n",
    " &  & +\\mathbf{x}^{T}\\boldsymbol{\\Sigma}^{-1}\\mathbf{x},\\\\\n",
    "\\frac{\\partial\\chi^{2}}{\\partial a} & = & -\\left(\\mathbf{x}^{T}\\boldsymbol{\\Sigma}^{-1}\\mathbf{t}+\\mathbf{t}^{T}\\boldsymbol{\\Sigma}^{-1}\\mathbf{x}\\right)+2a\\mathbf{t}^{T}\\boldsymbol{\\Sigma}^{-1}\\mathbf{t}+b\\left(\\mathbf{t}^{T}\\boldsymbol{\\Sigma}^{-1}\\boldsymbol{1}+\\boldsymbol{1}^{T}\\boldsymbol{\\Sigma}^{-1}\\mathbf{t}\\right),\\\\\n",
    "\\frac{\\partial\\chi^{2}}{\\partial b} & = & -\\left(\\mathbf{x}^{T}\\boldsymbol{\\Sigma}^{-1}\\boldsymbol{1}+\\boldsymbol{1}^{T}\\boldsymbol{\\Sigma}^{-1}\\mathbf{x}\\right)+2b\\boldsymbol{1}^{T}\\boldsymbol{\\Sigma}^{-1}\\boldsymbol{1}+a\\left(\\mathbf{t}^{T}\\boldsymbol{\\Sigma}^{-1}\\boldsymbol{1}+\\boldsymbol{1}^{T}\\boldsymbol{\\Sigma}^{-1}\\mathbf{t}\\right).\n",
    "\\end{eqnarray*}$$\n",
    "Solving this linear system, we have:\n",
    "$$\\frac{\\partial\\chi^{2}}{\\partial a}=\\frac{\\partial\\chi^{2}}{\\partial b}=0,$$\n",
    "$$\\begin{eqnarray*}\n",
    "a & = & -\\frac{-\\left(\\mathbf{t}^{T}\\boldsymbol{\\Sigma}^{-1}\\boldsymbol{1}+\\boldsymbol{1}^{T}\\boldsymbol{\\Sigma}^{-1}\\mathbf{t}\\right)\\left(\\mathbf{x}^{T}\\boldsymbol{\\Sigma}^{-1}\\boldsymbol{1}+\\boldsymbol{1}^{T}\\boldsymbol{\\Sigma}^{-1}\\mathbf{x}\\right)+2\\left(\\mathbf{x}^{T}\\boldsymbol{\\Sigma}^{-1}\\mathbf{t}+\\mathbf{t}^{T}\\boldsymbol{\\Sigma}^{-1}\\mathbf{x}\\right)\\left(\\boldsymbol{1}^{T}\\boldsymbol{\\Sigma}^{-1}\\boldsymbol{1}\\right)}{\\left(\\mathbf{t}^{T}\\boldsymbol{\\Sigma}^{-1}\\boldsymbol{1}+\\boldsymbol{1}^{T}\\boldsymbol{\\Sigma}^{-1}\\mathbf{t}\\right)^{2}-4\\left(\\mathbf{t}^{T}\\boldsymbol{\\Sigma}^{-1}\\mathbf{t}\\right)\\left(\\boldsymbol{1}^{T}\\boldsymbol{\\Sigma}^{-1}\\boldsymbol{1}\\right)},\\\\\n",
    " & = & -\\frac{2\\alpha\\lambda-\\gamma\\kappa}{\\gamma^{2}-4\\beta\\lambda},\\\\\n",
    "b & = & -\\frac{-\\left(\\mathbf{x}^{T}\\boldsymbol{\\Sigma}^{-1}\\mathbf{t}+\\mathbf{t}^{T}\\boldsymbol{\\Sigma}^{-1}\\mathbf{x}\\right)\\left(\\mathbf{t}^{T}\\boldsymbol{\\Sigma}^{-1}\\boldsymbol{1}+\\boldsymbol{1}^{T}\\boldsymbol{\\Sigma}^{-1}\\mathbf{t}\\right)+2\\left(\\mathbf{t}^{T}\\boldsymbol{\\Sigma}^{-1}\\mathbf{t}\\right)\\left(\\mathbf{x}^{T}\\boldsymbol{\\Sigma}^{-1}\\boldsymbol{1}+\\boldsymbol{1}^{T}\\boldsymbol{\\Sigma}^{-1}\\mathbf{x}\\right)}{\\left(\\mathbf{t}^{T}\\boldsymbol{\\Sigma}^{-1}\\boldsymbol{1}+\\boldsymbol{1}^{T}\\boldsymbol{\\Sigma}^{-1}\\mathbf{t}\\right)^{2}-4\\left(\\mathbf{t}^{T}\\boldsymbol{\\Sigma}^{-1}\\mathbf{t}\\right)\\left(\\boldsymbol{1}^{T}\\boldsymbol{\\Sigma}^{-1}\\boldsymbol{1}\\right)},\\\\\n",
    " & = & -\\frac{2\\beta\\kappa-\\alpha\\gamma}{\\gamma^{2}-4\\beta\\lambda}.\n",
    "\\end{eqnarray*}$$"
   ]
  },
  {
   "cell_type": "code",
   "execution_count": 9,
   "metadata": {},
   "outputs": [],
   "source": [
    "# Creating t values for a line:\n",
    "t_ = np.arange(1,30+1,1)\n",
    "\n",
    "# Finally, let's define a and b in terms of matrices, which are implemented easily numerically:\n",
    "# Note that the 101 simulation is given by data[-1]!\n",
    "alpha = np.dot(data[-1], np.dot(inv_cov_d, t_)) + np.dot(t_, np.dot(inv_cov_d, data[-1]))\n",
    "beta = np.dot(t_, np.dot(inv_cov_d, t_))\n",
    "gamma = np.dot(t_, np.dot(inv_cov_d, np.ones(30))) + np.dot(np.ones(30), np.dot(inv_cov_d, t_))\n",
    "lambda_ = np.dot(np.ones(30), np.dot(inv_cov_d, np.ones(30)))\n",
    "kappa = np.dot(data[-1], np.dot(inv_cov_d, np.ones(30))) + np.dot(np.ones(30), np.dot(inv_cov_d, data[-1]))"
   ]
  },
  {
   "cell_type": "markdown",
   "metadata": {},
   "source": [
    "Before we plot the function $g\\left(t|a,b\\right)=at+b$ and the correlation matrix, let's evaluate the same results, but using a diagonal covariance matrix:"
   ]
  },
  {
   "cell_type": "code",
   "execution_count": 10,
   "metadata": {},
   "outputs": [],
   "source": [
    "diag_cov_d = np.diag(np.diag(cov_d))\n",
    "inv_diag_cov_d = np.linalg.inv(diag_cov_d)"
   ]
  },
  {
   "cell_type": "markdown",
   "metadata": {},
   "source": [
    "Ant the other parameters:"
   ]
  },
  {
   "cell_type": "code",
   "execution_count": 11,
   "metadata": {},
   "outputs": [],
   "source": [
    "alpha_ = np.dot(data[-1], np.dot(inv_diag_cov_d, t_)) + np.dot(t_, np.dot(inv_diag_cov_d, data[-1]))\n",
    "beta_ = np.dot(t_, np.dot(inv_diag_cov_d, t_))\n",
    "gamma_ = np.dot(t_, np.dot(inv_diag_cov_d, np.ones(30))) + np.dot(np.ones(30), np.dot(inv_diag_cov_d, t_))\n",
    "lambda__ = np.dot(np.ones(30), np.dot(inv_diag_cov_d, np.ones(30)))\n",
    "kappa_ = np.dot(data[-1], np.dot(inv_diag_cov_d, np.ones(30))) + np.dot(np.ones(30), np.dot(inv_diag_cov_d, data[-1]))"
   ]
  },
  {
   "cell_type": "code",
   "execution_count": 12,
   "metadata": {},
   "outputs": [],
   "source": [
    "a = -(2*alpha*lambda_ - gamma*kappa)/(gamma**2 - 4*beta*lambda_)\n",
    "b = -(2*beta*kappa - alpha*gamma)/(gamma**2 - 4*beta*lambda_)\n",
    "\n",
    "a_ = -(2*alpha_*lambda__ - gamma_*kappa_)/(gamma_**2 - 4*beta_*lambda__)\n",
    "b_ = -(2*beta_*kappa_ - alpha_*gamma_)/(gamma_**2 - 4*beta_*lambda__)"
   ]
  },
  {
   "cell_type": "code",
   "execution_count": 13,
   "metadata": {},
   "outputs": [
    {
     "data": {
      "image/png": "[encoded data removed]",
      "text/plain": [
       "<Figure size 720x504 with 1 Axes>"
      ]
     },
     "metadata": {
      "needs_background": "light"
     },
     "output_type": "display_data"
    }
   ],
   "source": [
    "plt.figure(figsize=(10,7))\n",
    "plt.errorbar(t_, data[-1], np.sqrt(np.diag(cov_d)), fmt='og', label=r'$d_{101}$', ecolor='k', capsize=3)\n",
    "plt.plot(t_, a*t_+b, '-r', label=r'Best fit with $\\Sigma$, a={}, b={}'.format(np.around(a, 3),np.around(b, 3)))\n",
    "plt.plot(t_, a_*t_+b_, '-b', label=r'Best fit with $\\mathrm{{diag}}\\Sigma$, a={}, b={}'.format(np.around(a_, 3),np.around(b_, 3)))\n",
    "plt.legend(fontsize=15)\n",
    "plt.show()"
   ]
  },
  {
   "cell_type": "code",
   "execution_count": 14,
   "metadata": {},
   "outputs": [],
   "source": [
    "correlation_matrix = np.corrcoef(data[:-1],rowvar=False)"
   ]
  },
  {
   "cell_type": "code",
   "execution_count": 15,
   "metadata": {},
   "outputs": [
    {
     "data": {
      "image/png": "[encoded data removed]",
      "text/plain": [
       "<Figure size 720x504 with 2 Axes>"
      ]
     },
     "metadata": {
      "needs_background": "light"
     },
     "output_type": "display_data"
    }
   ],
   "source": [
    "plt.figure(figsize=(10,7))\n",
    "plt.imshow(correlation_matrix, cmap='jet')\n",
    "plt.colorbar()\n",
    "plt.show()"
   ]
  },
  {
   "cell_type": "markdown",
   "metadata": {},
   "source": [
    "We also can minimize using `scipy` module `opt.minimize`. This could be hand if the system is non linear:"
   ]
  },
  {
   "cell_type": "code",
   "execution_count": 16,
   "metadata": {},
   "outputs": [],
   "source": [
    "from scipy.optimize import minimize"
   ]
  },
  {
   "cell_type": "code",
   "execution_count": 17,
   "metadata": {},
   "outputs": [
    {
     "name": "stdout",
     "output_type": "stream",
     "text": [
      "      fun: 34.459090452691605\n",
      " hess_inv: array([[ 0.00024069, -0.00476245],\n",
      "       [-0.00476245,  0.11481557]])\n",
      "      jac: array([-4.76837158e-07,  4.76837158e-07])\n",
      "  message: 'Optimization terminated successfully.'\n",
      "     nfev: 24\n",
      "      nit: 4\n",
      "     njev: 6\n",
      "   status: 0\n",
      "  success: True\n",
      "        x: array([ 0.46651098, 15.29751934])\n"
     ]
    }
   ],
   "source": [
    "# Define the function we want to minimize:\n",
    "def chisqfunc(params):\n",
    "    a,b = params\n",
    "    chisq = np.dot(data[-1] - a*t_ - b, np.dot(inv_cov_d, data[-1] - a*t_ - b))\n",
    "    return chisq\n",
    "\n",
    "# Initial guess:\n",
    "x0 = [0,0]\n",
    "\n",
    "result = minimize(chisqfunc, x0)\n",
    "print(result)"
   ]
  },
  {
   "cell_type": "code",
   "execution_count": 18,
   "metadata": {},
   "outputs": [
    {
     "name": "stdout",
     "output_type": "stream",
     "text": [
      "[ 0.46651098 15.29751934]\n",
      "[0.4665110258043838, 15.297518471373646]\n",
      "[0.5080037609957122, 13.826004347063801]\n"
     ]
    }
   ],
   "source": [
    "print(np.array(result.x)) # Using python minimize function...\n",
    "print([a,b]) # Analytical value...\n",
    "print([a_,b_]) # Only diagonal of covariance matrix..."
   ]
  }
 ],
 "metadata": {
  "kernelspec": {
   "display_name": "Python 3",
   "language": "python",
   "name": "python3"
  },
  "language_info": {
   "codemirror_mode": {
    "name": "ipython",
    "version": 3
   },
   "file_extension": ".py",
   "mimetype": "text/x-python",
   "name": "python",
   "nbconvert_exporter": "python",
   "pygments_lexer": "ipython3",
   "version": "3.7.3"
  }
 },
 "nbformat": 4,
 "nbformat_minor": 2
}
